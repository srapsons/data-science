{
 "cells": [
  {
   "cell_type": "markdown",
   "metadata": {},
   "source": [
    "# Classifying Heart Disease\n",
    "\n",
    "In this guided project I will be looking at a real-life dataset: the [Heart Disease Data Set](https://archive.ics.uci.edu/dataset/45/heart+disease) from the UCI Machine Learning Repository. This dataset comes from the famous Cleveland Clinic Foundation, which recorded information on various patient characteristics, including age and chest pain, to try to classify the presence of heart disease in an individual."
   ]
  },
  {
   "cell_type": "code",
   "execution_count": 1,
   "metadata": {},
   "outputs": [],
   "source": [
    "import pandas as pd\n",
    "import matplotlib.pyplot as plt\n",
    "import numpy as np\n",
    "\n",
    "%matplotlib inline\n",
    "\n",
    "heart = pd.read_csv(\"data/heart_disease.csv\")"
   ]
  },
  {
   "cell_type": "markdown",
   "metadata": {},
   "source": [
    "## Exploring the dataset\n",
    "\n",
    "First I will explore the dataset to determine if any adjustments need to be made and check the distribution of the predictors"
   ]
  },
  {
   "cell_type": "code",
   "execution_count": 2,
   "metadata": {},
   "outputs": [
    {
     "name": "stdout",
     "output_type": "stream",
     "text": [
      "<class 'pandas.core.frame.DataFrame'>\n",
      "RangeIndex: 303 entries, 0 to 302\n",
      "Data columns (total 15 columns):\n",
      " #   Column      Non-Null Count  Dtype  \n",
      "---  ------      --------------  -----  \n",
      " 0   Unnamed: 0  303 non-null    int64  \n",
      " 1   age         303 non-null    int64  \n",
      " 2   sex         303 non-null    int64  \n",
      " 3   cp          303 non-null    int64  \n",
      " 4   trestbps    303 non-null    int64  \n",
      " 5   chol        303 non-null    int64  \n",
      " 6   fbs         303 non-null    int64  \n",
      " 7   restecg     303 non-null    int64  \n",
      " 8   thalach     303 non-null    int64  \n",
      " 9   exang       303 non-null    int64  \n",
      " 10  oldpeak     303 non-null    float64\n",
      " 11  slope       303 non-null    int64  \n",
      " 12  ca          303 non-null    object \n",
      " 13  thal        303 non-null    object \n",
      " 14  present     303 non-null    int64  \n",
      "dtypes: float64(1), int64(12), object(2)\n",
      "memory usage: 35.6+ KB\n"
     ]
    }
   ],
   "source": [
    "heart.info()"
   ]
  },
  {
   "cell_type": "markdown",
   "metadata": {},
   "source": [
    "The columns in the dataset are defined by the source as:  \n",
    "- `age` Age in years\n",
    "- `sex` Categorical\n",
    "- `cp` Categorical\n",
    "- `trestbps` Integer, resting blood pressure (on admission to the hospital)\n",
    "- `chol` Integer, serum cholestoral \n",
    "- `fbs` Categorical, fasting blood sugar > 120 mg/dl\n",
    "- `restecg` Categorical, resting electrocardiographic results. `0` = normal, `1` = ST-T wave abnormality, `2` = showing probable or definite left ventricular hypertrophy\n",
    "- `thalach` Integer, maximum heart rate achieved\n",
    "- `exang` Categorical, exercise induced angina\n",
    "- `oldpeak` Integer, ST depression induced by exercise relative to rest\n",
    "- `slope` Categorical\n",
    "- `ca` Integer, number of major vessels (0-3) colored by flourosopy\n",
    "- `thal` Categorical\n",
    "- `present` Target, diagnosis of heart disease"
   ]
  },
  {
   "cell_type": "markdown",
   "metadata": {},
   "source": [
    "### Cleaning\n",
    "\n",
    "There are some errors in the `ca` and `thal` columns I will look at next"
   ]
  },
  {
   "cell_type": "code",
   "execution_count": 3,
   "metadata": {},
   "outputs": [
    {
     "data": {
      "text/plain": [
       "0.0    176\n",
       "1.0     65\n",
       "2.0     38\n",
       "3.0     20\n",
       "?        4\n",
       "Name: ca, dtype: int64"
      ]
     },
     "execution_count": 3,
     "metadata": {},
     "output_type": "execute_result"
    }
   ],
   "source": [
    "heart['ca'].value_counts()"
   ]
  },
  {
   "cell_type": "markdown",
   "metadata": {},
   "source": [
    "There are 4 `?` in `ca`. I will replace these with the modal value `0`"
   ]
  },
  {
   "cell_type": "code",
   "execution_count": 4,
   "metadata": {},
   "outputs": [
    {
     "data": {
      "text/plain": [
       "0.0    176\n",
       "1.0     65\n",
       "2.0     38\n",
       "3.0     20\n",
       "0        4\n",
       "Name: ca, dtype: int64"
      ]
     },
     "execution_count": 4,
     "metadata": {},
     "output_type": "execute_result"
    }
   ],
   "source": [
    "heart['ca'] = heart['ca'].replace({\"?\":\"0\"})\n",
    "heart['ca'].value_counts()"
   ]
  },
  {
   "cell_type": "code",
   "execution_count": 5,
   "metadata": {},
   "outputs": [
    {
     "data": {
      "text/plain": [
       "3.0    166\n",
       "7.0    117\n",
       "6.0     18\n",
       "?        2\n",
       "Name: thal, dtype: int64"
      ]
     },
     "execution_count": 5,
     "metadata": {},
     "output_type": "execute_result"
    }
   ],
   "source": [
    "heart['thal'].value_counts()"
   ]
  },
  {
   "cell_type": "markdown",
   "metadata": {},
   "source": [
    "There are 2 `?` in the `thal` column. I will replace these with  the modal value `3`"
   ]
  },
  {
   "cell_type": "code",
   "execution_count": 6,
   "metadata": {},
   "outputs": [
    {
     "data": {
      "text/plain": [
       "3.0    166\n",
       "7.0    117\n",
       "6.0     18\n",
       "3        2\n",
       "Name: thal, dtype: int64"
      ]
     },
     "execution_count": 6,
     "metadata": {},
     "output_type": "execute_result"
    }
   ],
   "source": [
    "heart['thal'] = heart['thal'].replace({\"?\":\"3\"})\n",
    "heart['thal'].value_counts()"
   ]
  },
  {
   "cell_type": "code",
   "execution_count": 7,
   "metadata": {},
   "outputs": [],
   "source": [
    "# convert to float from object\n",
    "heart['ca'] = heart['ca'].astype(float)\n",
    "heart['thal'] = heart['thal'].astype(float)"
   ]
  },
  {
   "cell_type": "markdown",
   "metadata": {},
   "source": [
    "### Exploration"
   ]
  },
  {
   "cell_type": "code",
   "execution_count": 8,
   "metadata": {},
   "outputs": [
    {
     "data": {
      "text/plain": [
       "array([[<Axes: title={'center': 'present'}>]], dtype=object)"
      ]
     },
     "execution_count": 8,
     "metadata": {},
     "output_type": "execute_result"
    },
    {
     "data": {
      "image/png": "[encoded data removed]",
      "text/plain": [
       "<Figure size 640x480 with 1 Axes>"
      ]
     },
     "metadata": {},
     "output_type": "display_data"
    }
   ],
   "source": [
    "heart.hist(\"present\")"
   ]
  },
  {
   "cell_type": "markdown",
   "metadata": {},
   "source": [
    "Out of the 303 observations, there is a fairly even split in our target variable. With around 140 observations with heart disease and just over 160 without."
   ]
  },
  {
   "cell_type": "code",
   "execution_count": 9,
   "metadata": {},
   "outputs": [
    {
     "data": {
      "text/html": [
       "<div>\n",
       "<style scoped>\n",
       "    .dataframe tbody tr th:only-of-type {\n",
       "        vertical-align: middle;\n",
       "    }\n",
       "\n",
       "    .dataframe tbody tr th {\n",
       "        vertical-align: top;\n",
       "    }\n",
       "\n",
       "    .dataframe thead th {\n",
       "        text-align: right;\n",
       "    }\n",
       "</style>\n",
       "<table border=\"1\" class=\"dataframe\">\n",
       "  <thead>\n",
       "    <tr style=\"text-align: right;\">\n",
       "      <th></th>\n",
       "      <th>age</th>\n",
       "      <th>sex</th>\n",
       "      <th>cp</th>\n",
       "      <th>trestbps</th>\n",
       "      <th>chol</th>\n",
       "      <th>fbs</th>\n",
       "      <th>restecg</th>\n",
       "      <th>thalach</th>\n",
       "      <th>exang</th>\n",
       "      <th>oldpeak</th>\n",
       "      <th>slope</th>\n",
       "      <th>ca</th>\n",
       "      <th>thal</th>\n",
       "    </tr>\n",
       "    <tr>\n",
       "      <th>present</th>\n",
       "      <th></th>\n",
       "      <th></th>\n",
       "      <th></th>\n",
       "      <th></th>\n",
       "      <th></th>\n",
       "      <th></th>\n",
       "      <th></th>\n",
       "      <th></th>\n",
       "      <th></th>\n",
       "      <th></th>\n",
       "      <th></th>\n",
       "      <th></th>\n",
       "      <th></th>\n",
       "    </tr>\n",
       "  </thead>\n",
       "  <tbody>\n",
       "    <tr>\n",
       "      <th>0</th>\n",
       "      <td>52.585366</td>\n",
       "      <td>0.560976</td>\n",
       "      <td>2.792683</td>\n",
       "      <td>129.250000</td>\n",
       "      <td>242.640244</td>\n",
       "      <td>0.140244</td>\n",
       "      <td>0.835366</td>\n",
       "      <td>158.378049</td>\n",
       "      <td>0.140244</td>\n",
       "      <td>0.586585</td>\n",
       "      <td>1.408537</td>\n",
       "      <td>0.268293</td>\n",
       "      <td>3.792683</td>\n",
       "    </tr>\n",
       "    <tr>\n",
       "      <th>1</th>\n",
       "      <td>56.625899</td>\n",
       "      <td>0.820144</td>\n",
       "      <td>3.589928</td>\n",
       "      <td>134.568345</td>\n",
       "      <td>251.474820</td>\n",
       "      <td>0.158273</td>\n",
       "      <td>1.172662</td>\n",
       "      <td>139.258993</td>\n",
       "      <td>0.546763</td>\n",
       "      <td>1.574101</td>\n",
       "      <td>1.827338</td>\n",
       "      <td>1.129496</td>\n",
       "      <td>5.820144</td>\n",
       "    </tr>\n",
       "  </tbody>\n",
       "</table>\n",
       "</div>"
      ],
      "text/plain": [
       "               age       sex        cp    trestbps        chol       fbs  \\\n",
       "present                                                                    \n",
       "0        52.585366  0.560976  2.792683  129.250000  242.640244  0.140244   \n",
       "1        56.625899  0.820144  3.589928  134.568345  251.474820  0.158273   \n",
       "\n",
       "          restecg     thalach     exang   oldpeak     slope        ca  \\\n",
       "present                                                                 \n",
       "0        0.835366  158.378049  0.140244  0.586585  1.408537  0.268293   \n",
       "1        1.172662  139.258993  0.546763  1.574101  1.827338  1.129496   \n",
       "\n",
       "             thal  \n",
       "present            \n",
       "0        3.792683  \n",
       "1        5.820144  "
      ]
     },
     "execution_count": 9,
     "metadata": {},
     "output_type": "execute_result"
    }
   ],
   "source": [
    "heart.groupby(\"present\").agg(\n",
    "    {\n",
    "        \"age\": \"mean\",\n",
    "        \"sex\": \"mean\",\n",
    "        \"cp\": \"mean\",\n",
    "        \"trestbps\": \"mean\",\n",
    "        \"chol\": \"mean\",\n",
    "        \"fbs\": \"mean\",\n",
    "        \"restecg\": \"mean\",\n",
    "        \"thalach\": \"mean\",\n",
    "        \"exang\": \"mean\",\n",
    "        \"oldpeak\": \"mean\",\n",
    "        \"slope\": \"mean\",\n",
    "        \"ca\" : \"mean\",\n",
    "        \"thal\" : \"mean\"\n",
    "    }\n",
    ")"
   ]
  },
  {
   "cell_type": "markdown",
   "metadata": {},
   "source": [
    "The above shows the predictors stratified by the target variable. The predictors with the largest differences should be selected for training in the model. Looking at the above, good candiates are:  \n",
    "- `age`\n",
    "- `restecg`\n",
    "- `thalach`\n",
    "- `ca`"
   ]
  },
  {
   "cell_type": "markdown",
   "metadata": {},
   "source": [
    "## Dividing the data\n",
    "\n",
    "I will now split the dataset into train and test subsets. This is so there is some unseen data to test the model on after is has been trained.  \n",
    "I will allocate **20%** to the test set. I will set a random seed to make the results reproducable."
   ]
  },
  {
   "cell_type": "code",
   "execution_count": 10,
   "metadata": {},
   "outputs": [],
   "source": [
    "from sklearn.model_selection import train_test_split\n",
    "\n",
    "X = heart[[\"age\",\"restecg\",\"thalach\",\"ca\"]]\n",
    "y = heart[\"present\"]\n",
    "\n",
    "X_train, X_test, y_train, y_test = train_test_split(X, y, test_size=0.2, random_state=303)"
   ]
  },
  {
   "cell_type": "code",
   "execution_count": 11,
   "metadata": {},
   "outputs": [
    {
     "data": {
      "text/plain": [
       "0    131\n",
       "1    111\n",
       "Name: present, dtype: int64"
      ]
     },
     "execution_count": 11,
     "metadata": {},
     "output_type": "execute_result"
    }
   ],
   "source": [
    "y_train.value_counts()"
   ]
  },
  {
   "cell_type": "code",
   "execution_count": 12,
   "metadata": {},
   "outputs": [
    {
     "data": {
      "text/plain": [
       "0    33\n",
       "1    28\n",
       "Name: present, dtype: int64"
      ]
     },
     "execution_count": 12,
     "metadata": {},
     "output_type": "execute_result"
    }
   ],
   "source": [
    "y_test.value_counts()"
   ]
  },
  {
   "cell_type": "markdown",
   "metadata": {},
   "source": [
    "The dataset has been split. The train and test subsets contain a good amount of both cases and non-cases."
   ]
  },
  {
   "cell_type": "markdown",
   "metadata": {},
   "source": [
    "## Building the Model\n",
    "\n",
    "I will now build the model using LogisticRegression.  \n",
    "I will assess the model by:\n",
    "- accuracy: how well the model predicts an case overall\n",
    "- sensitivity: how well were the actual cases predicted\n",
    "- specificity: how well were the actual non-cases predicted"
   ]
  },
  {
   "cell_type": "code",
   "execution_count": 13,
   "metadata": {},
   "outputs": [
    {
     "name": "stdout",
     "output_type": "stream",
     "text": [
      "accuracy: 0.7603305785123967\n",
      "sensitivity: 0.6846846846846847\n",
      "specificity: 0.8244274809160306\n"
     ]
    }
   ],
   "source": [
    "from sklearn.linear_model import LogisticRegression\n",
    "\n",
    "model = LogisticRegression()\n",
    "model.fit(X_train, y_train)\n",
    "\n",
    "predictions = model.predict(X_train)\n",
    "accuracy = model.score(X_train, y_train)\n",
    "\n",
    "tp = sum((y_train == 1) & (predictions == 1))\n",
    "fn = sum((y_train == 1) & (predictions == 0))\n",
    "tn = sum((y_train == 0) & (predictions == 0))\n",
    "fp = sum((y_train == 0) & (predictions == 1))\n",
    "\n",
    "sensitivity = tp / (tp + fn)\n",
    "specificity = tn / (tn + fp)\n",
    "\n",
    "print('accuracy:',accuracy)\n",
    "print('sensitivity:',sensitivity)\n",
    "print('specificity:',specificity)"
   ]
  },
  {
   "cell_type": "markdown",
   "metadata": {},
   "source": [
    "Overall the model's predictions were correct 76% of the time.  \n",
    "\n",
    "However it was better at predicting the non-cases.  \n",
    "The specificty shows that the non-cases were predicted correctly 82% of the time.  \n",
    "Whereas the sensitivity shows the cases were predicted correctly only 68% of the time."
   ]
  },
  {
   "cell_type": "markdown",
   "metadata": {},
   "source": [
    "## Interpreting the Model Coefficients\n",
    "\n",
    "The model coefficients can describe how each predictor affects the outcome"
   ]
  },
  {
   "cell_type": "code",
   "execution_count": 14,
   "metadata": {},
   "outputs": [
    {
     "data": {
      "text/plain": [
       "array([[-0.00137217,  0.31965891, -0.03471048,  1.10864487]])"
      ]
     },
     "execution_count": 14,
     "metadata": {},
     "output_type": "execute_result"
    }
   ],
   "source": [
    "model.coef_"
   ]
  },
  {
   "cell_type": "markdown",
   "metadata": {},
   "source": [
    "The above coefficients shopw the log-odds ration for a unit increase of each predictor.\n",
    "\n",
    "Next I will examine the odds scales."
   ]
  },
  {
   "cell_type": "code",
   "execution_count": 15,
   "metadata": {},
   "outputs": [
    {
     "name": "stdout",
     "output_type": "stream",
     "text": [
      "age odds ratio: 0.9986287725208344\n",
      "restecg odds ratio: 1.3766581236722981\n",
      "thalach odds ratio: 0.9658850216561469\n",
      "ca odds ratio: 3.0302492171842887\n"
     ]
    }
   ],
   "source": [
    "age_odds = np.exp(model.coef_[0,0])\n",
    "restecg_odds = np.exp(model.coef_[0,1])\n",
    "thalach_odds = np.exp(model.coef_[0,2])\n",
    "ca_odds = np.exp(model.coef_[0,3])\n",
    "\n",
    "print('age odds ratio:',age_odds)\n",
    "print('restecg odds ratio:',restecg_odds)\n",
    "print('thalach odds ratio:',thalach_odds)\n",
    "print('ca odds ratio:',ca_odds)"
   ]
  },
  {
   "cell_type": "markdown",
   "metadata": {},
   "source": [
    "The above odds ratios indicate that higher ages and higher maximum heart rates (`thalach`) are associated with a lower chance of heart disease. The odds are still relatively low, with values that are close to 1.   \n",
    "Also more resting ecg abnormality (`restecg`) and higher number of major vessels coloured by fluroscopy (`ca`) are associated with a higher chance of heart disease.   \n",
    "The odds ratios indicate moderate (37%) increase with `restecg` and a high (203%) increase with `ca`."
   ]
  },
  {
   "cell_type": "markdown",
   "metadata": {},
   "source": [
    "## Final Evaluation\n",
    "\n",
    "Now I will conduct a final evaluation uusing the test set."
   ]
  },
  {
   "cell_type": "code",
   "execution_count": 16,
   "metadata": {},
   "outputs": [
    {
     "name": "stdout",
     "output_type": "stream",
     "text": [
      "accuracy: 0.7213114754098361\n",
      "sensitivity: 0.5714285714285714\n",
      "specificity: 0.8484848484848485\n"
     ]
    }
   ],
   "source": [
    "test_predictions = model.predict(X_test)\n",
    "test_accuracy = model.score(X_test, y_test)\n",
    "\n",
    "test_tp = sum((y_test == 1) & (test_predictions == 1))\n",
    "test_fn = sum((y_test == 1) & (test_predictions == 0))\n",
    "test_tn = sum((y_test == 0) & (test_predictions == 0))\n",
    "test_fp = sum((y_test == 0) & (test_predictions == 1))\n",
    "\n",
    "test_sensitivity = test_tp / (test_tp + test_fn)\n",
    "test_specificity = test_tn / (test_tn + test_fp)\n",
    "\n",
    "print('accuracy:',test_accuracy)\n",
    "print('sensitivity:',test_sensitivity)\n",
    "print('specificity:',test_specificity)"
   ]
  },
  {
   "cell_type": "markdown",
   "metadata": {},
   "source": [
    "The overall accuracy has dropped slightly from the training evaluation to 72%.\n",
    "\n",
    "However the difference between the sensitivity and the specficity has increased.  \n",
    "A sensitivity of 57% indicates the model performs quite poorly on positive cases.  \n",
    "A specificty of 84% indicates the model perform quite well on negative cases."
   ]
  }
 ],
 "metadata": {
  "kernelspec": {
   "display_name": "Python 3 (ipykernel)",
   "language": "python",
   "name": "python3"
  },
  "language_info": {
   "codemirror_mode": {
    "name": "ipython",
    "version": 3
   },
   "file_extension": ".py",
   "mimetype": "text/x-python",
   "name": "python",
   "nbconvert_exporter": "python",
   "pygments_lexer": "ipython3",
   "version": "3.10.9"
  }
 },
 "nbformat": 4,
 "nbformat_minor": 4
}
